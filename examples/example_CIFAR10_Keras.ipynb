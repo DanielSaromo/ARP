{
  "nbformat": 4,
  "nbformat_minor": 0,
  "metadata": {
    "colab": {
      "name": "example_CIFAR10_Keras",
      "provenance": [],
      "collapsed_sections": [],
      "toc_visible": true
    },
    "kernelspec": {
      "name": "python3",
      "display_name": "Python 3"
    },
    "accelerator": "TPU"
  },
  "cells": [
    {
      "cell_type": "markdown",
      "metadata": {
        "id": "jXwGv9Rh7nHB"
      },
      "source": [
        "# Auto-Rotating Perceptrons (ARP)"
      ]
    },
    {
      "cell_type": "markdown",
      "metadata": {
        "id": "261R0VHbVaEX"
      },
      "source": [
        "Example of use of the `AutoRotDense` Keras layer. A comparison against a neural network with classic perceptrons is showed. We can observe a performance improvement when using ARP at deep neural models with saturated activation functions (like sigmoid)."
      ]
    },
    {
      "cell_type": "markdown",
      "metadata": {
        "id": "itnikGnz6f2T"
      },
      "source": [
        "This notebook was executed in Google Colaboratory.\n",
        "\n",
        "You can run it in colab here: [![Open In Colab](https://colab.research.google.com/assets/colab-badge.svg)](https://colab.research.google.com/github/DanielSaromo/ARP/blob/master/examples/example_CIFAR10_Keras.ipynb)"
      ]
    },
    {
      "cell_type": "markdown",
      "metadata": {
        "id": "e41fup7oWvpR"
      },
      "source": [
        "Code based on the official Keras example: https://github.com/keras-team/keras/blob/master/examples/mnist_mlp.py"
      ]
    },
    {
      "cell_type": "markdown",
      "metadata": {
        "id": "lc8gJ7doZO_f"
      },
      "source": [
        "Reference: **ARP paper**: https://arxiv.org/pdf/1910.02483.pdf"
      ]
    },
    {
      "cell_type": "markdown",
      "metadata": {
        "id": "y2qhjBkYV2nr"
      },
      "source": [
        "Notebook made by [Daniel Saromo Mori](http://danielsaromo.github.io/)."
      ]
    },
    {
      "cell_type": "markdown",
      "metadata": {
        "id": "Wjw8j-9UXIbH"
      },
      "source": [
        "# Install ARP library for Keras"
      ]
    },
    {
      "cell_type": "code",
      "metadata": {
        "colab": {
          "base_uri": "https://localhost:8080/"
        },
        "id": "X8w_G159qFZ5",
        "outputId": "bcd4f330-28de-464e-c5c2-23ccd3a15ff5"
      },
      "source": [
        "!pip install arpkeras"
      ],
      "execution_count": 1,
      "outputs": [
        {
          "output_type": "stream",
          "text": [
            "Collecting arpkeras\n",
            "  Downloading https://files.pythonhosted.org/packages/70/fa/ccf375c44a12b9a59ab0283bce95ee3a3152a5f4436e9c3a85ef19a492e2/arpkeras-1.0.0-py3-none-any.whl\n",
            "Installing collected packages: arpkeras\n",
            "Successfully installed arpkeras-1.0.0\n"
          ],
          "name": "stdout"
        }
      ]
    },
    {
      "cell_type": "markdown",
      "metadata": {
        "id": "ZMXks7Hiy4nz"
      },
      "source": [
        "The library name for the `pip` installation is in lowercase."
      ]
    },
    {
      "cell_type": "code",
      "metadata": {
        "id": "3iMsu7VgqHan"
      },
      "source": [
        "from ARPkeras import AutoRotDense"
      ],
      "execution_count": 2,
      "outputs": []
    },
    {
      "cell_type": "markdown",
      "metadata": {
        "id": "HlAng9O1ysG-"
      },
      "source": [
        "Check the uppercases of the library name while importing."
      ]
    },
    {
      "cell_type": "markdown",
      "metadata": {
        "id": "tUv5ROAIaN1P"
      },
      "source": [
        "# Inference of the CIFAR10 dataset"
      ]
    },
    {
      "cell_type": "code",
      "metadata": {
        "id": "P74tYEQUaSAW",
        "colab": {
          "base_uri": "https://localhost:8080/"
        },
        "outputId": "0e037115-84d5-42bf-b2d0-58f885b82956"
      },
      "source": [
        "import keras\n",
        "from tensorflow.keras.datasets import cifar10\n",
        "from tensorflow.keras.models import Sequential\n",
        "from tensorflow.keras.layers import Dense, Dropout\n",
        "from tensorflow.keras.optimizers import RMSprop\n",
        "from skimage.color import rgb2gray\n",
        "import numpy as np\n",
        "\n",
        "batch_size = 128\n",
        "num_classes = 10\n",
        "epochs = 20\n",
        "\n",
        "# the data, split between train and test sets\n",
        "(x_train, y_train), (x_test, y_test) = cifar10.load_data()\n",
        "\n",
        "x_train = np.array([rgb2gray(img) for img in x_train])\n",
        "x_test = np.array([rgb2gray(img) for img in x_test])\n",
        "\n",
        "x_train = x_train.reshape(x_train.shape[0], -1)\n",
        "x_test = x_test.reshape(x_test.shape[0], -1)\n",
        "x_train = x_train.astype('float32')\n",
        "x_test = x_test.astype('float32')\n",
        "\n",
        "#x_train /= 255\n",
        "#x_test /= 255\n",
        "print(x_train.shape[0], 'train samples')\n",
        "print(x_test.shape[0], 'test samples')\n",
        "\n",
        "# convert class vectors to binary class matrices\n",
        "y_train = keras.utils.to_categorical(y_train, num_classes)\n",
        "y_test = keras.utils.to_categorical(y_test, num_classes)"
      ],
      "execution_count": 3,
      "outputs": [
        {
          "output_type": "stream",
          "text": [
            "Downloading data from https://www.cs.toronto.edu/~kriz/cifar-10-python.tar.gz\n",
            "170500096/170498071 [==============================] - 2s 0us/step\n",
            "50000 train samples\n",
            "10000 test samples\n"
          ],
          "name": "stdout"
        }
      ]
    },
    {
      "cell_type": "markdown",
      "metadata": {
        "id": "3HK8_4RjBedX"
      },
      "source": [
        "Let's check the limits of the input data, to then define `xmin_lim` and `xmax_lim`:"
      ]
    },
    {
      "cell_type": "code",
      "metadata": {
        "colab": {
          "base_uri": "https://localhost:8080/"
        },
        "id": "fGm67Li4BawG",
        "outputId": "45c12dd9-c9ee-489d-b26b-dc6440c5cd2f"
      },
      "source": [
        "x_train.min(), x_train.max()"
      ],
      "execution_count": 4,
      "outputs": [
        {
          "output_type": "execute_result",
          "data": {
            "text/plain": [
              "(0.0, 1.0)"
            ]
          },
          "metadata": {
            "tags": []
          },
          "execution_count": 4
        }
      ]
    },
    {
      "cell_type": "code",
      "metadata": {
        "colab": {
          "base_uri": "https://localhost:8080/"
        },
        "id": "6kDRfY4pBRVD",
        "outputId": "012cc832-b3ea-4ef2-82e6-63aa394f2b95"
      },
      "source": [
        "x_test.min(), x_test.max()"
      ],
      "execution_count": 5,
      "outputs": [
        {
          "output_type": "execute_result",
          "data": {
            "text/plain": [
              "(0.0, 1.0)"
            ]
          },
          "metadata": {
            "tags": []
          },
          "execution_count": 5
        }
      ]
    },
    {
      "cell_type": "markdown",
      "metadata": {
        "id": "IB1gqUIRzwNj"
      },
      "source": [
        "## Model with classic perceptrons"
      ]
    },
    {
      "cell_type": "code",
      "metadata": {
        "id": "MkIVzlCvbxIS",
        "colab": {
          "base_uri": "https://localhost:8080/"
        },
        "outputId": "c24d76fc-d2b1-4d11-ffe8-a6441100dceb"
      },
      "source": [
        "#Model with classic perceptrons\n",
        "\n",
        "model_classic = Sequential()\n",
        "model_classic.add(Dense(50, activation='sigmoid', input_shape=(1024,)))\n",
        "model_classic.add(Dense(50, activation='sigmoid'))\n",
        "model_classic.add(Dense(40, activation='sigmoid'))\n",
        "model_classic.add(Dense(40, activation='sigmoid'))\n",
        "model_classic.add(Dense(30, activation='sigmoid'))\n",
        "model_classic.add(Dense(num_classes, activation='softmax'))\n",
        "\n",
        "model_classic.summary()\n",
        "\n",
        "model_classic.compile(loss='categorical_crossentropy',\n",
        "              optimizer=RMSprop(),\n",
        "              metrics=['accuracy'])\n",
        "\n",
        "history_classic = model_classic.fit(x_train, y_train,\n",
        "                    batch_size=batch_size,\n",
        "                    epochs=epochs,\n",
        "                    verbose=1,\n",
        "                    validation_data=(x_test, y_test))\n",
        "score_classic = model_classic.evaluate(x_test, y_test, verbose=0)\n",
        "print('Test loss:', score_classic[0])\n",
        "print('Test accuracy:', score_classic[1])"
      ],
      "execution_count": 6,
      "outputs": [
        {
          "output_type": "stream",
          "text": [
            "Model: \"sequential\"\n",
            "_________________________________________________________________\n",
            "Layer (type)                 Output Shape              Param #   \n",
            "=================================================================\n",
            "dense (Dense)                (None, 50)                51250     \n",
            "_________________________________________________________________\n",
            "dense_1 (Dense)              (None, 50)                2550      \n",
            "_________________________________________________________________\n",
            "dense_2 (Dense)              (None, 40)                2040      \n",
            "_________________________________________________________________\n",
            "dense_3 (Dense)              (None, 40)                1640      \n",
            "_________________________________________________________________\n",
            "dense_4 (Dense)              (None, 30)                1230      \n",
            "_________________________________________________________________\n",
            "dense_5 (Dense)              (None, 10)                310       \n",
            "=================================================================\n",
            "Total params: 59,020\n",
            "Trainable params: 59,020\n",
            "Non-trainable params: 0\n",
            "_________________________________________________________________\n",
            "Epoch 1/20\n",
            "391/391 [==============================] - 3s 5ms/step - loss: 2.3052 - accuracy: 0.1106 - val_loss: 2.1843 - val_accuracy: 0.1546\n",
            "Epoch 2/20\n",
            "391/391 [==============================] - 2s 4ms/step - loss: 2.1694 - accuracy: 0.1652 - val_loss: 2.1317 - val_accuracy: 0.1795\n",
            "Epoch 3/20\n",
            "391/391 [==============================] - 2s 4ms/step - loss: 2.1230 - accuracy: 0.1838 - val_loss: 2.1252 - val_accuracy: 0.1832\n",
            "Epoch 4/20\n",
            "391/391 [==============================] - 2s 4ms/step - loss: 2.1030 - accuracy: 0.1906 - val_loss: 2.0977 - val_accuracy: 0.1927\n",
            "Epoch 5/20\n",
            "391/391 [==============================] - 2s 4ms/step - loss: 2.0848 - accuracy: 0.2028 - val_loss: 2.0862 - val_accuracy: 0.2240\n",
            "Epoch 6/20\n",
            "391/391 [==============================] - 2s 4ms/step - loss: 2.0670 - accuracy: 0.2288 - val_loss: 2.0436 - val_accuracy: 0.2429\n",
            "Epoch 7/20\n",
            "391/391 [==============================] - 2s 4ms/step - loss: 2.0423 - accuracy: 0.2372 - val_loss: 2.0294 - val_accuracy: 0.2468\n",
            "Epoch 8/20\n",
            "391/391 [==============================] - 2s 4ms/step - loss: 2.0214 - accuracy: 0.2484 - val_loss: 2.0036 - val_accuracy: 0.2578\n",
            "Epoch 9/20\n",
            "391/391 [==============================] - 2s 4ms/step - loss: 1.9986 - accuracy: 0.2512 - val_loss: 2.0264 - val_accuracy: 0.2495\n",
            "Epoch 10/20\n",
            "391/391 [==============================] - 2s 4ms/step - loss: 1.9838 - accuracy: 0.2602 - val_loss: 2.0027 - val_accuracy: 0.2581\n",
            "Epoch 11/20\n",
            "391/391 [==============================] - 2s 4ms/step - loss: 1.9665 - accuracy: 0.2625 - val_loss: 1.9597 - val_accuracy: 0.2717\n",
            "Epoch 12/20\n",
            "391/391 [==============================] - 1s 4ms/step - loss: 1.9581 - accuracy: 0.2684 - val_loss: 1.9912 - val_accuracy: 0.2484\n",
            "Epoch 13/20\n",
            "391/391 [==============================] - 2s 4ms/step - loss: 1.9424 - accuracy: 0.2725 - val_loss: 1.9655 - val_accuracy: 0.2620\n",
            "Epoch 14/20\n",
            "391/391 [==============================] - 2s 4ms/step - loss: 1.9362 - accuracy: 0.2740 - val_loss: 1.9519 - val_accuracy: 0.2717\n",
            "Epoch 15/20\n",
            "391/391 [==============================] - 2s 4ms/step - loss: 1.9135 - accuracy: 0.2854 - val_loss: 1.9299 - val_accuracy: 0.2841\n",
            "Epoch 16/20\n",
            "391/391 [==============================] - 2s 4ms/step - loss: 1.9097 - accuracy: 0.2833 - val_loss: 1.9201 - val_accuracy: 0.2801\n",
            "Epoch 17/20\n",
            "391/391 [==============================] - 2s 4ms/step - loss: 1.9030 - accuracy: 0.2822 - val_loss: 1.9120 - val_accuracy: 0.2833\n",
            "Epoch 18/20\n",
            "391/391 [==============================] - 2s 4ms/step - loss: 1.8966 - accuracy: 0.2865 - val_loss: 1.9093 - val_accuracy: 0.2924\n",
            "Epoch 19/20\n",
            "391/391 [==============================] - 2s 4ms/step - loss: 1.8869 - accuracy: 0.2894 - val_loss: 1.9806 - val_accuracy: 0.2663\n",
            "Epoch 20/20\n",
            "391/391 [==============================] - 2s 4ms/step - loss: 1.8839 - accuracy: 0.2937 - val_loss: 1.8963 - val_accuracy: 0.2876\n",
            "Test loss: 1.8962833881378174\n",
            "Test accuracy: 0.28760001063346863\n"
          ],
          "name": "stdout"
        }
      ]
    },
    {
      "cell_type": "markdown",
      "metadata": {
        "id": "exmRSFnszzFE"
      },
      "source": [
        "## Model with ARP"
      ]
    },
    {
      "cell_type": "markdown",
      "metadata": {
        "id": "A22AYdJ_CIs2"
      },
      "source": [
        "The ARP model has the same architecture as the classical model, but with ARP dense layers (`AutoRotDense`) instead of classical dense layers (`Dense`)."
      ]
    },
    {
      "cell_type": "code",
      "metadata": {
        "id": "J2sU43Kab4b3",
        "colab": {
          "base_uri": "https://localhost:8080/"
        },
        "outputId": "86464599-34a8-423c-9b38-8175faa28280"
      },
      "source": [
        "#Model with ARP\n",
        "\n",
        "print(\"Range of the train and test data: From 0 to 1\")\n",
        "print(x_train.min(), x_train.max(), x_test.min(), x_test.max())\n",
        "\n",
        "print(\"Range of the activation function output: `sigmoid`: From 0 to 1\")\n",
        "\n",
        "print(x_train.min(), x_train.max(), x_test.min(), x_test.max())\n",
        "\n",
        "xmin_lim=0\n",
        "xmax_lim=1\n",
        "\n",
        "print(\"Hence, we get that: `xmin_lim` =\", xmin_lim,\"and `xmax_lim` =\", xmax_lim)\n",
        "\n",
        "print(\"ARP can be executed by defining just one hyperparameter: `L`\")\n",
        "L = 4 #since the sigmoid activation function $\\sigma(z)$ is not saturated in the range abs(z) <= L = 4 \n",
        "\n",
        "model_ARP = Sequential()\n",
        "model_ARP.add(AutoRotDense(50, input_shape=(1024,), xmin_lim=xmin_lim, xmax_lim=xmax_lim, L=L, activation='sigmoid'))\n",
        "model_ARP.add(AutoRotDense(50, xmin_lim=xmin_lim, xmax_lim=xmax_lim, L=L, activation='sigmoid'))\n",
        "model_ARP.add(AutoRotDense(40, xmin_lim=xmin_lim, xmax_lim=xmax_lim, L=L, activation='sigmoid'))\n",
        "model_ARP.add(AutoRotDense(40, xmin_lim=xmin_lim, xmax_lim=xmax_lim, L=L, activation='sigmoid'))\n",
        "#By default the `AutoRot` flag of the Auto-Rotating layers is True.\n",
        "model_ARP.add(AutoRotDense(30, activation='sigmoid', xmin_lim=xmin_lim, xmax_lim=xmax_lim, L=L, AutoRot=True))\n",
        "model_ARP.add(Dense(num_classes, activation='softmax'))# the last layer does not need to be ARP\n",
        "\n",
        "model_ARP.summary()\n",
        "\n",
        "model_ARP.compile(loss='categorical_crossentropy',\n",
        "              optimizer=RMSprop(),\n",
        "              metrics=['accuracy'])\n",
        "\n",
        "history_ARP = model_ARP.fit(x_train, y_train,\n",
        "                    batch_size=batch_size,\n",
        "                    epochs=epochs,\n",
        "                    verbose=1,\n",
        "                    validation_data=(x_test, y_test))\n",
        "score_ARP = model_ARP.evaluate(x_test, y_test, verbose=0)\n",
        "print('Test loss:', score_ARP[0])\n",
        "print('Test accuracy:', score_ARP[1])"
      ],
      "execution_count": 7,
      "outputs": [
        {
          "output_type": "stream",
          "text": [
            "Range of the train and test data: From 0 to 1\n",
            "0.0 1.0 0.0 1.0\n",
            "Range of the activation function output: `sigmoid`: From 0 to 1\n",
            "0.0 1.0 0.0 1.0\n",
            "Hence, we get that: `xmin_lim` = 0 and `xmax_lim` = 1\n",
            "ARP can be executed by defining just one hyperparameter: `L`\n",
            "Model: \"sequential_1\"\n",
            "_________________________________________________________________\n",
            "Layer (type)                 Output Shape              Param #   \n",
            "=================================================================\n",
            "auto_rot_dense (AutoRotDense (None, 50)                51250     \n",
            "_________________________________________________________________\n",
            "auto_rot_dense_1 (AutoRotDen (None, 50)                2550      \n",
            "_________________________________________________________________\n",
            "auto_rot_dense_2 (AutoRotDen (None, 40)                2040      \n",
            "_________________________________________________________________\n",
            "auto_rot_dense_3 (AutoRotDen (None, 40)                1640      \n",
            "_________________________________________________________________\n",
            "auto_rot_dense_4 (AutoRotDen (None, 30)                1230      \n",
            "_________________________________________________________________\n",
            "dense_6 (Dense)              (None, 10)                310       \n",
            "=================================================================\n",
            "Total params: 59,020\n",
            "Trainable params: 59,020\n",
            "Non-trainable params: 0\n",
            "_________________________________________________________________\n",
            "Epoch 1/20\n",
            "391/391 [==============================] - 4s 7ms/step - loss: 2.2304 - accuracy: 0.1572 - val_loss: 2.0885 - val_accuracy: 0.2313\n",
            "Epoch 2/20\n",
            "391/391 [==============================] - 2s 6ms/step - loss: 2.0902 - accuracy: 0.2243 - val_loss: 2.0666 - val_accuracy: 0.2479\n",
            "Epoch 3/20\n",
            "391/391 [==============================] - 2s 6ms/step - loss: 2.0545 - accuracy: 0.2477 - val_loss: 2.0085 - val_accuracy: 0.2785\n",
            "Epoch 4/20\n",
            "391/391 [==============================] - 2s 6ms/step - loss: 2.0154 - accuracy: 0.2691 - val_loss: 1.9987 - val_accuracy: 0.2822\n",
            "Epoch 5/20\n",
            "391/391 [==============================] - 2s 6ms/step - loss: 1.9865 - accuracy: 0.2850 - val_loss: 1.9795 - val_accuracy: 0.2883\n",
            "Epoch 6/20\n",
            "391/391 [==============================] - 2s 6ms/step - loss: 1.9708 - accuracy: 0.2901 - val_loss: 1.9595 - val_accuracy: 0.2939\n",
            "Epoch 7/20\n",
            "391/391 [==============================] - 2s 6ms/step - loss: 1.9447 - accuracy: 0.3051 - val_loss: 1.9531 - val_accuracy: 0.3047\n",
            "Epoch 8/20\n",
            "391/391 [==============================] - 2s 6ms/step - loss: 1.9223 - accuracy: 0.3106 - val_loss: 1.9111 - val_accuracy: 0.3182\n",
            "Epoch 9/20\n",
            "391/391 [==============================] - 2s 6ms/step - loss: 1.9110 - accuracy: 0.3146 - val_loss: 1.9296 - val_accuracy: 0.3060\n",
            "Epoch 10/20\n",
            "391/391 [==============================] - 2s 6ms/step - loss: 1.8985 - accuracy: 0.3213 - val_loss: 1.9803 - val_accuracy: 0.2877\n",
            "Epoch 11/20\n",
            "391/391 [==============================] - 2s 6ms/step - loss: 1.8915 - accuracy: 0.3220 - val_loss: 1.9297 - val_accuracy: 0.3144\n",
            "Epoch 12/20\n",
            "391/391 [==============================] - 2s 6ms/step - loss: 1.8841 - accuracy: 0.3246 - val_loss: 1.8971 - val_accuracy: 0.3148\n",
            "Epoch 13/20\n",
            "391/391 [==============================] - 2s 6ms/step - loss: 1.8659 - accuracy: 0.3321 - val_loss: 1.9528 - val_accuracy: 0.3071\n",
            "Epoch 14/20\n",
            "391/391 [==============================] - 2s 6ms/step - loss: 1.8494 - accuracy: 0.3400 - val_loss: 1.8796 - val_accuracy: 0.3215\n",
            "Epoch 15/20\n",
            "391/391 [==============================] - 2s 6ms/step - loss: 1.8519 - accuracy: 0.3364 - val_loss: 1.8579 - val_accuracy: 0.3334\n",
            "Epoch 16/20\n",
            "391/391 [==============================] - 2s 6ms/step - loss: 1.8459 - accuracy: 0.3401 - val_loss: 1.8484 - val_accuracy: 0.3426\n",
            "Epoch 17/20\n",
            "391/391 [==============================] - 2s 6ms/step - loss: 1.8271 - accuracy: 0.3481 - val_loss: 1.8338 - val_accuracy: 0.3461\n",
            "Epoch 18/20\n",
            "391/391 [==============================] - 2s 6ms/step - loss: 1.8273 - accuracy: 0.3452 - val_loss: 1.8551 - val_accuracy: 0.3445\n",
            "Epoch 19/20\n",
            "391/391 [==============================] - 2s 6ms/step - loss: 1.8275 - accuracy: 0.3498 - val_loss: 1.8660 - val_accuracy: 0.3344\n",
            "Epoch 20/20\n",
            "391/391 [==============================] - 2s 6ms/step - loss: 1.8147 - accuracy: 0.3497 - val_loss: 1.8952 - val_accuracy: 0.3240\n",
            "Test loss: 1.895243763923645\n",
            "Test accuracy: 0.3240000009536743\n"
          ],
          "name": "stdout"
        }
      ]
    },
    {
      "cell_type": "markdown",
      "metadata": {
        "id": "-y1beossgPMI"
      },
      "source": [
        "ARP model has lower test loss and a higher test accuracy!"
      ]
    },
    {
      "cell_type": "markdown",
      "metadata": {
        "id": "S3rXdB5cz1W1"
      },
      "source": [
        "## Model with ARP layers with the `AutoRot` flag turned off"
      ]
    },
    {
      "cell_type": "markdown",
      "metadata": {
        "id": "9JC2OoXSz6pP"
      },
      "source": [
        "You can use the `AutoRotDense` layers with the `AutoRot` argument set to `False` in order to deactivate the Auto-Rotation."
      ]
    },
    {
      "cell_type": "code",
      "metadata": {
        "colab": {
          "base_uri": "https://localhost:8080/"
        },
        "id": "sMfQSbQJMyZi",
        "outputId": "12f4fa2c-17f9-42a2-98a8-a6451135d8c4"
      },
      "source": [
        "#Model with flagARPoff\n",
        "\n",
        "print(\"Range of the train and test data: From xmin_lim=0 to xmax_lim=1\")\n",
        "print(x_train.min(), x_train.max(), x_test.min(), x_test.max())\n",
        "\n",
        "xmin_lim=0\n",
        "xmax_lim=1\n",
        "\n",
        "print(\"ARP can be executed by defining just one hyperparameter: `L`\")\n",
        "L = 4 #since the sigmoid activation function $\\sigma(z)$ is not saturated in the range abs(z) <= L = 4 \n",
        "\n",
        "model_flagARPoff = Sequential()\n",
        "model_flagARPoff.add(AutoRotDense(50, input_shape=(1024,), xmin_lim=xmin_lim, xmax_lim=xmax_lim, L=L, AutoRot=False, activation='sigmoid'))\n",
        "model_flagARPoff.add(AutoRotDense(50, xmin_lim=xmin_lim, xmax_lim=xmax_lim, L=L, AutoRot=False, activation='sigmoid'))\n",
        "model_flagARPoff.add(AutoRotDense(40, xmin_lim=xmin_lim, xmax_lim=xmax_lim, L=L, AutoRot=False, activation='sigmoid'))\n",
        "model_flagARPoff.add(AutoRotDense(40, xmin_lim=xmin_lim, xmax_lim=xmax_lim, L=L, AutoRot=False, activation='sigmoid'))\n",
        "model_flagARPoff.add(AutoRotDense(30, xmin_lim=xmin_lim, xmax_lim=xmax_lim, L=L, AutoRot=False, activation='sigmoid'))\n",
        "model_flagARPoff.add(Dense(num_classes, activation='softmax'))# the last layer does not need to be flagARPoff\n",
        "\n",
        "model_flagARPoff.summary()\n",
        "\n",
        "model_flagARPoff.compile(loss='categorical_crossentropy',\n",
        "              optimizer=RMSprop(),\n",
        "              metrics=['accuracy'])\n",
        "\n",
        "history_flagARPoff = model_flagARPoff.fit(x_train, y_train,\n",
        "                    batch_size=batch_size,\n",
        "                    epochs=epochs,\n",
        "                    verbose=1,\n",
        "                    validation_data=(x_test, y_test))\n",
        "score_flagARPoff = model_flagARPoff.evaluate(x_test, y_test, verbose=0)\n",
        "print('Test loss:', score_flagARPoff[0])\n",
        "print('Test accuracy:', score_flagARPoff[1])"
      ],
      "execution_count": 8,
      "outputs": [
        {
          "output_type": "stream",
          "text": [
            "Range of the train and test data: From xmin_lim=0 to xmax_lim=1\n",
            "0.0 1.0 0.0 1.0\n",
            "ARP can be executed by defining just one hyperparameter: `L`\n",
            "Model: \"sequential_2\"\n",
            "_________________________________________________________________\n",
            "Layer (type)                 Output Shape              Param #   \n",
            "=================================================================\n",
            "auto_rot_dense_5 (AutoRotDen (None, 50)                51250     \n",
            "_________________________________________________________________\n",
            "auto_rot_dense_6 (AutoRotDen (None, 50)                2550      \n",
            "_________________________________________________________________\n",
            "auto_rot_dense_7 (AutoRotDen (None, 40)                2040      \n",
            "_________________________________________________________________\n",
            "auto_rot_dense_8 (AutoRotDen (None, 40)                1640      \n",
            "_________________________________________________________________\n",
            "auto_rot_dense_9 (AutoRotDen (None, 30)                1230      \n",
            "_________________________________________________________________\n",
            "dense_7 (Dense)              (None, 10)                310       \n",
            "=================================================================\n",
            "Total params: 59,020\n",
            "Trainable params: 59,020\n",
            "Non-trainable params: 0\n",
            "_________________________________________________________________\n",
            "Epoch 1/20\n",
            "391/391 [==============================] - 2s 4ms/step - loss: 2.2796 - accuracy: 0.1270 - val_loss: 2.1668 - val_accuracy: 0.1728\n",
            "Epoch 2/20\n",
            "391/391 [==============================] - 1s 4ms/step - loss: 2.1572 - accuracy: 0.1720 - val_loss: 2.1223 - val_accuracy: 0.1759\n",
            "Epoch 3/20\n",
            "391/391 [==============================] - 2s 4ms/step - loss: 2.1262 - accuracy: 0.1801 - val_loss: 2.1010 - val_accuracy: 0.1837\n",
            "Epoch 4/20\n",
            "391/391 [==============================] - 2s 4ms/step - loss: 2.1081 - accuracy: 0.1830 - val_loss: 2.1186 - val_accuracy: 0.1861\n",
            "Epoch 5/20\n",
            "391/391 [==============================] - 2s 4ms/step - loss: 2.0919 - accuracy: 0.1907 - val_loss: 2.0802 - val_accuracy: 0.1873\n",
            "Epoch 6/20\n",
            "391/391 [==============================] - 2s 4ms/step - loss: 2.0799 - accuracy: 0.1981 - val_loss: 2.0836 - val_accuracy: 0.1974\n",
            "Epoch 7/20\n",
            "391/391 [==============================] - 1s 4ms/step - loss: 2.0695 - accuracy: 0.1979 - val_loss: 2.0595 - val_accuracy: 0.2057\n",
            "Epoch 8/20\n",
            "391/391 [==============================] - 1s 4ms/step - loss: 2.0574 - accuracy: 0.2104 - val_loss: 2.0417 - val_accuracy: 0.2164\n",
            "Epoch 9/20\n",
            "391/391 [==============================] - 1s 4ms/step - loss: 2.0441 - accuracy: 0.2172 - val_loss: 2.0287 - val_accuracy: 0.2259\n",
            "Epoch 10/20\n",
            "391/391 [==============================] - 2s 4ms/step - loss: 2.0194 - accuracy: 0.2296 - val_loss: 2.0047 - val_accuracy: 0.2417\n",
            "Epoch 11/20\n",
            "391/391 [==============================] - 1s 4ms/step - loss: 2.0012 - accuracy: 0.2445 - val_loss: 2.0024 - val_accuracy: 0.2372\n",
            "Epoch 12/20\n",
            "391/391 [==============================] - 2s 4ms/step - loss: 1.9843 - accuracy: 0.2547 - val_loss: 1.9844 - val_accuracy: 0.2565\n",
            "Epoch 13/20\n",
            "391/391 [==============================] - 2s 4ms/step - loss: 1.9677 - accuracy: 0.2572 - val_loss: 1.9766 - val_accuracy: 0.2598\n",
            "Epoch 14/20\n",
            "391/391 [==============================] - 1s 4ms/step - loss: 1.9445 - accuracy: 0.2669 - val_loss: 1.9569 - val_accuracy: 0.2660\n",
            "Epoch 15/20\n",
            "391/391 [==============================] - 1s 4ms/step - loss: 1.9364 - accuracy: 0.2713 - val_loss: 1.9258 - val_accuracy: 0.2752\n",
            "Epoch 16/20\n",
            "391/391 [==============================] - 2s 4ms/step - loss: 1.9268 - accuracy: 0.2756 - val_loss: 1.9541 - val_accuracy: 0.2627\n",
            "Epoch 17/20\n",
            "391/391 [==============================] - 1s 4ms/step - loss: 1.9136 - accuracy: 0.2820 - val_loss: 1.9323 - val_accuracy: 0.2728\n",
            "Epoch 18/20\n",
            "391/391 [==============================] - 1s 4ms/step - loss: 1.9124 - accuracy: 0.2836 - val_loss: 1.9349 - val_accuracy: 0.2728\n",
            "Epoch 19/20\n",
            "391/391 [==============================] - 1s 4ms/step - loss: 1.8971 - accuracy: 0.2888 - val_loss: 1.9063 - val_accuracy: 0.2795\n",
            "Epoch 20/20\n",
            "391/391 [==============================] - 1s 4ms/step - loss: 1.8968 - accuracy: 0.2896 - val_loss: 1.8980 - val_accuracy: 0.2943\n",
            "Test loss: 1.8980480432510376\n",
            "Test accuracy: 0.29429998993873596\n"
          ],
          "name": "stdout"
        }
      ]
    },
    {
      "cell_type": "markdown",
      "metadata": {
        "id": "LH4OtPpW0UWa"
      },
      "source": [
        "This model has to generate similar results than the classic model."
      ]
    },
    {
      "cell_type": "markdown",
      "metadata": {
        "id": "vJByYjFod8tZ"
      },
      "source": [
        "# Performance comparison graphs"
      ]
    },
    {
      "cell_type": "code",
      "metadata": {
        "id": "5WangUS6eFSB"
      },
      "source": [
        "import matplotlib.pyplot as plt\n",
        "import matplotlib as mpl"
      ],
      "execution_count": 9,
      "outputs": []
    },
    {
      "cell_type": "markdown",
      "metadata": {
        "id": "Iy7cheitCpI5"
      },
      "source": [
        "## Loss curves"
      ]
    },
    {
      "cell_type": "code",
      "metadata": {
        "id": "LJJFBHwYeFSE",
        "colab": {
          "base_uri": "https://localhost:8080/",
          "height": 281
        },
        "outputId": "0e43bcc2-015b-4952-cd86-b3f1208d0356"
      },
      "source": [
        "plt.plot(history_classic.history['loss'], '--', color='red', label='train vanilla')\n",
        "plt.plot(history_classic.history['val_loss'], '--', color='pink', label='val vanilla')\n",
        "plt.plot(history_ARP.history['loss'], color='green', label='train ARP')\n",
        "plt.plot(history_ARP.history['val_loss'], color='lightgreen', label='val ARP')\n",
        "plt.title('Loss curves')\n",
        "plt.legend()\n",
        "plt.show()"
      ],
      "execution_count": 10,
      "outputs": [
        {
          "output_type": "display_data",
          "data": {
            "image/png": "[encoded data removed]",
            "text/plain": [
              "<Figure size 432x288 with 1 Axes>"
            ]
          },
          "metadata": {
            "tags": [],
            "needs_background": "light"
          }
        }
      ]
    },
    {
      "cell_type": "markdown",
      "metadata": {
        "id": "QVuxhVsKCc9K"
      },
      "source": [
        "We can see that with the Auto-Rotation, the initial loss of the network is lower, and it decreases faster to a lower value."
      ]
    },
    {
      "cell_type": "markdown",
      "metadata": {
        "id": "GIuSR3j0CrIV"
      },
      "source": [
        "## Accuracy curves"
      ]
    },
    {
      "cell_type": "code",
      "metadata": {
        "id": "1MLMP-e2eFSH",
        "colab": {
          "base_uri": "https://localhost:8080/",
          "height": 281
        },
        "outputId": "e2dac541-0808-465b-ec69-3e8979ec8dcf"
      },
      "source": [
        "plt.plot(history_classic.history['accuracy'], '--', color='red', label='train vanilla')\n",
        "plt.plot(history_classic.history['val_accuracy'], '--', color='pink', label='val vanilla')\n",
        "plt.plot(history_ARP.history['accuracy'], color='green', label='train ARP')\n",
        "plt.plot(history_ARP.history['val_accuracy'], color='lightgreen', label='val ARP')\n",
        "plt.title('Accuracy curves')\n",
        "plt.legend()\n",
        "plt.show()"
      ],
      "execution_count": 11,
      "outputs": [
        {
          "output_type": "display_data",
          "data": {
            "image/png": "[encoded data removed]",
            "text/plain": [
              "<Figure size 432x288 with 1 Axes>"
            ]
          },
          "metadata": {
            "tags": [],
            "needs_background": "light"
          }
        }
      ]
    },
    {
      "cell_type": "markdown",
      "metadata": {
        "id": "0h4seuZ6CuLd"
      },
      "source": [
        "The final accuracy of the ARP model is bigger than with classic (vanilla) perceptrons."
      ]
    },
    {
      "cell_type": "markdown",
      "metadata": {
        "id": "zQ34bkHjDJUl"
      },
      "source": [
        "## Comparing the vanilla perceptrons and the AutoRot perceptrons with the ARP flag turned off"
      ]
    },
    {
      "cell_type": "code",
      "metadata": {
        "id": "JW6L6LeWlZW0",
        "colab": {
          "base_uri": "https://localhost:8080/",
          "height": 281
        },
        "outputId": "8df74366-7ae2-4668-bc94-9f54e0740ca8"
      },
      "source": [
        "plt.plot(history_classic.history['accuracy'], '--', color='red', label='train vanilla')\n",
        "plt.plot(history_classic.history['val_accuracy'], '--', color='pink', label='val vanilla')\n",
        "plt.plot(history_flagARPoff.history['accuracy'], color='blue', label='train flagARPoff')\n",
        "plt.plot(history_flagARPoff.history['val_accuracy'], color='yellow', label='val flagARPoff')\n",
        "\n",
        "#plt.plot(history_ARP.history['accuracy'], color='green', label='train ARP')\n",
        "#plt.plot(history_ARP.history['val_accuracy'], color='lightgreen', label='val ARP')\n",
        "\n",
        "plt.title('Accuracy curves')\n",
        "plt.legend()\n",
        "plt.show()"
      ],
      "execution_count": 13,
      "outputs": [
        {
          "output_type": "display_data",
          "data": {
            "image/png": "[encoded data removed]",
            "text/plain": [
              "<Figure size 432x288 with 1 Axes>"
            ]
          },
          "metadata": {
            "tags": [],
            "needs_background": "light"
          }
        }
      ]
    },
    {
      "cell_type": "markdown",
      "metadata": {
        "id": "sopx037UDUxC"
      },
      "source": [
        "As expected, turning off the flag of the Auto-Rotating dense layer generates a similar behavior than using the vanilla dense layers. The results vary because of the training process' stochasticity and the initial weights."
      ]
    }
  ]
}