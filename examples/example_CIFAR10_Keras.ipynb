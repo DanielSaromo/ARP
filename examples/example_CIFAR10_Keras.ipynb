{
  "nbformat": 4,
  "nbformat_minor": 0,
  "metadata": {
    "colab": {
      "name": "example_CIFAR10_Keras",
      "provenance": [],
      "toc_visible": true
    },
    "kernelspec": {
      "name": "python3",
      "display_name": "Python 3"
    },
    "accelerator": "TPU"
  },
  "cells": [
    {
      "cell_type": "markdown",
      "metadata": {
        "id": "jXwGv9Rh7nHB"
      },
      "source": [
        "# Auto-Rotating Perceptrons (ARP)"
      ]
    },
    {
      "cell_type": "markdown",
      "metadata": {
        "id": "261R0VHbVaEX"
      },
      "source": [
        "Example of use of the `AutoRotDense` Keras layer. A comparison against a neural network with classic perceptrons is showed. We can observe a performance improvement when using ARP at deep neural models with saturated activation functions (like sigmoid)."
      ]
    },
    {
      "cell_type": "markdown",
      "metadata": {
        "id": "itnikGnz6f2T"
      },
      "source": [
        "This notebook was executed in Google Colaboratory.\n",
        "\n",
        "You can run it in colab here: [![Open In Colab](https://colab.research.google.com/assets/colab-badge.svg)](https://colab.research.google.com/github/DanielSaromo/ARP/blob/master/examples/example_CIFAR10_Keras.ipynb)"
      ]
    },
    {
      "cell_type": "markdown",
      "metadata": {
        "id": "e41fup7oWvpR"
      },
      "source": [
        "Code based on the official Keras example: https://github.com/keras-team/keras/blob/master/examples/mnist_mlp.py"
      ]
    },
    {
      "cell_type": "markdown",
      "source": [
        "- Library: https://github.com/DanielSaromo/ARP\n",
        "- Paper: https://research.latinxinai.org/papers/neurips/2019/pdf/Oral_Saromo_Daniel.pdf\n",
        "- Explicative tutorial (in Spanish): https://www.youtube.com/watch?v=zM3NMyGqHow\n",
        "- Oral presentation of the original ARP paper: https://slideslive.com/38922594/autorotating-perceptrons\n",
        "- More information: https://danielsaromo.xyz/ARP"
      ],
      "metadata": {
        "id": "XEpg0imd4Iu3"
      }
    },
    {
      "cell_type": "markdown",
      "source": [
        "This code is free to use for research purposes, and if used or modified in any way, please consider citing:\n",
        "\n",
        "```\n",
        "@article{saromo2019arp,\n",
        "  title={{A}uto-{R}otating {P}erceptrons},\n",
        "  author={Saromo, Daniel and Villota, Elizabeth and Villanueva, Edwin},\n",
        "  journal={LatinX in AI Workshop at NeurIPS 2019 (arXiv:1910.02483)},\n",
        "  year={2019}\n",
        "}\n",
        "```\n",
        "\n"
      ],
      "metadata": {
        "id": "40kAtvsnmj9U"
      }
    },
    {
      "cell_type": "markdown",
      "metadata": {
        "id": "y2qhjBkYV2nr"
      },
      "source": [
        "Notebook made by [Daniel Saromo Mori](http://danielsaromo.github.io/)."
      ]
    },
    {
      "cell_type": "markdown",
      "metadata": {
        "id": "Wjw8j-9UXIbH"
      },
      "source": [
        "# Install ARP library for Keras"
      ]
    },
    {
      "cell_type": "code",
      "metadata": {
        "colab": {
          "base_uri": "https://localhost:8080/"
        },
        "id": "X8w_G159qFZ5",
        "outputId": "c6de6f7b-1163-46fc-f250-3a12dcf6fbdd"
      },
      "source": [
        "!pip install arpkeras"
      ],
      "execution_count": null,
      "outputs": [
        {
          "output_type": "stream",
          "name": "stdout",
          "text": [
            "Looking in indexes: https://pypi.org/simple, https://us-python.pkg.dev/colab-wheels/public/simple/\n",
            "Collecting arpkeras\n",
            "  Downloading arpkeras-1.0.0-py3-none-any.whl (12 kB)\n",
            "Installing collected packages: arpkeras\n",
            "Successfully installed arpkeras-1.0.0\n"
          ]
        }
      ]
    },
    {
      "cell_type": "markdown",
      "metadata": {
        "id": "ZMXks7Hiy4nz"
      },
      "source": [
        "The library name for the `pip` installation is in lowercase."
      ]
    },
    {
      "cell_type": "code",
      "metadata": {
        "id": "3iMsu7VgqHan"
      },
      "source": [
        "from ARPkeras import AutoRotDense"
      ],
      "execution_count": null,
      "outputs": []
    },
    {
      "cell_type": "markdown",
      "metadata": {
        "id": "HlAng9O1ysG-"
      },
      "source": [
        "Check the uppercases of the library name while importing."
      ]
    },
    {
      "cell_type": "markdown",
      "metadata": {
        "id": "tUv5ROAIaN1P"
      },
      "source": [
        "# Inference of the CIFAR10 dataset"
      ]
    },
    {
      "cell_type": "code",
      "metadata": {
        "id": "P74tYEQUaSAW",
        "colab": {
          "base_uri": "https://localhost:8080/"
        },
        "outputId": "f7fda8d7-331c-4b0b-fd11-a0079d26147e"
      },
      "source": [
        "import keras\n",
        "from tensorflow.keras.datasets import cifar10\n",
        "from tensorflow.keras.models import Sequential\n",
        "from tensorflow.keras.layers import Dense, Dropout\n",
        "from tensorflow.keras.optimizers import RMSprop\n",
        "from skimage.color import rgb2gray\n",
        "import numpy as np\n",
        "\n",
        "batch_size = 128\n",
        "num_classes = 10\n",
        "epochs = 20\n",
        "\n",
        "# the data, split between train and test sets\n",
        "(x_train, y_train), (x_test, y_test) = cifar10.load_data()\n",
        "\n",
        "x_train = np.array([rgb2gray(img) for img in x_train])\n",
        "x_test = np.array([rgb2gray(img) for img in x_test])\n",
        "\n",
        "x_train = x_train.reshape(x_train.shape[0], -1)\n",
        "x_test = x_test.reshape(x_test.shape[0], -1)\n",
        "x_train = x_train.astype('float32')\n",
        "x_test = x_test.astype('float32')\n",
        "\n",
        "#x_train /= 255\n",
        "#x_test /= 255\n",
        "print(x_train.shape[0], 'train samples')\n",
        "print(x_test.shape[0], 'test samples')\n",
        "\n",
        "# convert class vectors to binary class matrices\n",
        "y_train = keras.utils.to_categorical(y_train, num_classes)\n",
        "y_test = keras.utils.to_categorical(y_test, num_classes)"
      ],
      "execution_count": null,
      "outputs": [
        {
          "output_type": "stream",
          "name": "stdout",
          "text": [
            "Downloading data from https://www.cs.toronto.edu/~kriz/cifar-10-python.tar.gz\n",
            "170498071/170498071 [==============================] - 2s 0us/step\n",
            "50000 train samples\n",
            "10000 test samples\n"
          ]
        }
      ]
    },
    {
      "cell_type": "markdown",
      "metadata": {
        "id": "3HK8_4RjBedX"
      },
      "source": [
        "Let's check the limits of the input data, to then define `xmin_lim` and `xmax_lim`:"
      ]
    },
    {
      "cell_type": "code",
      "metadata": {
        "colab": {
          "base_uri": "https://localhost:8080/"
        },
        "id": "fGm67Li4BawG",
        "outputId": "a1e0eff0-9e38-4053-9f0e-568b33de84eb"
      },
      "source": [
        "x_train.min(), x_train.max()"
      ],
      "execution_count": null,
      "outputs": [
        {
          "output_type": "execute_result",
          "data": {
            "text/plain": [
              "(0.0, 1.0)"
            ]
          },
          "metadata": {},
          "execution_count": 4
        }
      ]
    },
    {
      "cell_type": "code",
      "metadata": {
        "colab": {
          "base_uri": "https://localhost:8080/"
        },
        "id": "6kDRfY4pBRVD",
        "outputId": "b8b8331a-f70c-44ee-9b59-e76242543578"
      },
      "source": [
        "x_test.min(), x_test.max()"
      ],
      "execution_count": null,
      "outputs": [
        {
          "output_type": "execute_result",
          "data": {
            "text/plain": [
              "(0.0, 1.0)"
            ]
          },
          "metadata": {},
          "execution_count": 5
        }
      ]
    },
    {
      "cell_type": "code",
      "source": [
        "# Here you can change the activation\n",
        "             \n",
        "activFun = 'sigmoid' # you can set here your desired activation"
      ],
      "metadata": {
        "id": "eK0narJTlfZ1"
      },
      "execution_count": null,
      "outputs": []
    },
    {
      "cell_type": "markdown",
      "metadata": {
        "id": "IB1gqUIRzwNj"
      },
      "source": [
        "## Model with classic perceptrons"
      ]
    },
    {
      "cell_type": "code",
      "metadata": {
        "id": "MkIVzlCvbxIS",
        "colab": {
          "base_uri": "https://localhost:8080/"
        },
        "outputId": "558482cf-62fa-4e1d-9eef-29302e8a8b22"
      },
      "source": [
        "#Model with classic perceptrons\n",
        "\n",
        "model_classic = Sequential()\n",
        "model_classic.add(Dense(50, activation=activFun, input_shape=(1024,)))\n",
        "model_classic.add(Dense(50, activation=activFun))\n",
        "model_classic.add(Dense(40, activation=activFun))\n",
        "model_classic.add(Dense(40, activation=activFun))\n",
        "model_classic.add(Dense(30, activation=activFun))\n",
        "model_classic.add(Dense(num_classes, activation='softmax'))\n",
        "\n",
        "model_classic.summary()\n",
        "\n",
        "model_classic.compile(loss='categorical_crossentropy',\n",
        "              optimizer=RMSprop(),\n",
        "              metrics=['accuracy'])\n",
        "\n",
        "history_classic = model_classic.fit(x_train, y_train,\n",
        "                    batch_size=batch_size,\n",
        "                    epochs=epochs,\n",
        "                    verbose=1,\n",
        "                    validation_data=(x_test, y_test))\n",
        "score_classic = model_classic.evaluate(x_test, y_test, verbose=0)\n",
        "print('Test loss:', score_classic[0])\n",
        "print('Test accuracy:', score_classic[1])"
      ],
      "execution_count": null,
      "outputs": [
        {
          "output_type": "stream",
          "name": "stdout",
          "text": [
            "Model: \"sequential\"\n",
            "_________________________________________________________________\n",
            " Layer (type)                Output Shape              Param #   \n",
            "=================================================================\n",
            " dense (Dense)               (None, 50)                51250     \n",
            "                                                                 \n",
            " dense_1 (Dense)             (None, 50)                2550      \n",
            "                                                                 \n",
            " dense_2 (Dense)             (None, 40)                2040      \n",
            "                                                                 \n",
            " dense_3 (Dense)             (None, 40)                1640      \n",
            "                                                                 \n",
            " dense_4 (Dense)             (None, 30)                1230      \n",
            "                                                                 \n",
            " dense_5 (Dense)             (None, 10)                310       \n",
            "                                                                 \n",
            "=================================================================\n",
            "Total params: 59,020\n",
            "Trainable params: 59,020\n",
            "Non-trainable params: 0\n",
            "_________________________________________________________________\n",
            "Epoch 1/20\n",
            "391/391 [==============================] - 7s 11ms/step - loss: 2.3243 - accuracy: 0.0996 - val_loss: 2.3046 - val_accuracy: 0.1000\n",
            "Epoch 2/20\n",
            "391/391 [==============================] - 4s 11ms/step - loss: 2.3032 - accuracy: 0.1046 - val_loss: 2.3019 - val_accuracy: 0.1000\n",
            "Epoch 3/20\n",
            "391/391 [==============================] - 5s 14ms/step - loss: 2.2585 - accuracy: 0.1367 - val_loss: 2.1879 - val_accuracy: 0.1614\n",
            "Epoch 4/20\n",
            "391/391 [==============================] - 3s 9ms/step - loss: 2.1733 - accuracy: 0.1619 - val_loss: 2.1556 - val_accuracy: 0.1735\n",
            "Epoch 5/20\n",
            "391/391 [==============================] - 2s 5ms/step - loss: 2.1507 - accuracy: 0.1728 - val_loss: 2.1441 - val_accuracy: 0.1786\n",
            "Epoch 6/20\n",
            "391/391 [==============================] - 2s 6ms/step - loss: 2.1272 - accuracy: 0.1814 - val_loss: 2.1528 - val_accuracy: 0.1775\n",
            "Epoch 7/20\n",
            "391/391 [==============================] - 2s 6ms/step - loss: 2.1062 - accuracy: 0.1842 - val_loss: 2.1135 - val_accuracy: 0.1830\n",
            "Epoch 8/20\n",
            "391/391 [==============================] - 3s 8ms/step - loss: 2.0906 - accuracy: 0.1895 - val_loss: 2.0811 - val_accuracy: 0.1950\n",
            "Epoch 9/20\n",
            "391/391 [==============================] - 2s 6ms/step - loss: 2.0816 - accuracy: 0.1935 - val_loss: 2.1177 - val_accuracy: 0.1890\n",
            "Epoch 10/20\n",
            "391/391 [==============================] - 2s 6ms/step - loss: 2.0708 - accuracy: 0.1956 - val_loss: 2.0861 - val_accuracy: 0.1950\n",
            "Epoch 11/20\n",
            "391/391 [==============================] - 2s 5ms/step - loss: 2.0639 - accuracy: 0.1976 - val_loss: 2.0933 - val_accuracy: 0.1968\n",
            "Epoch 12/20\n",
            "391/391 [==============================] - 2s 6ms/step - loss: 2.0582 - accuracy: 0.2025 - val_loss: 2.0547 - val_accuracy: 0.1992\n",
            "Epoch 13/20\n",
            "391/391 [==============================] - 2s 6ms/step - loss: 2.0510 - accuracy: 0.2052 - val_loss: 2.0504 - val_accuracy: 0.2043\n",
            "Epoch 14/20\n",
            "391/391 [==============================] - 3s 8ms/step - loss: 2.0431 - accuracy: 0.2104 - val_loss: 2.0401 - val_accuracy: 0.2114\n",
            "Epoch 15/20\n",
            "391/391 [==============================] - 3s 6ms/step - loss: 2.0382 - accuracy: 0.2120 - val_loss: 2.0566 - val_accuracy: 0.2095\n",
            "Epoch 16/20\n",
            "391/391 [==============================] - 2s 6ms/step - loss: 2.0343 - accuracy: 0.2126 - val_loss: 2.0447 - val_accuracy: 0.2077\n",
            "Epoch 17/20\n",
            "391/391 [==============================] - 2s 6ms/step - loss: 2.0271 - accuracy: 0.2135 - val_loss: 2.0544 - val_accuracy: 0.2012\n",
            "Epoch 18/20\n",
            "391/391 [==============================] - 2s 5ms/step - loss: 2.0231 - accuracy: 0.2162 - val_loss: 2.0442 - val_accuracy: 0.2124\n",
            "Epoch 19/20\n",
            "391/391 [==============================] - 2s 5ms/step - loss: 2.0191 - accuracy: 0.2187 - val_loss: 2.0308 - val_accuracy: 0.2158\n",
            "Epoch 20/20\n",
            "391/391 [==============================] - 3s 8ms/step - loss: 2.0131 - accuracy: 0.2211 - val_loss: 2.0275 - val_accuracy: 0.2166\n",
            "Test loss: 2.027515172958374\n",
            "Test accuracy: 0.21660000085830688\n"
          ]
        }
      ]
    },
    {
      "cell_type": "markdown",
      "metadata": {
        "id": "exmRSFnszzFE"
      },
      "source": [
        "## Model with ARP"
      ]
    },
    {
      "cell_type": "markdown",
      "metadata": {
        "id": "A22AYdJ_CIs2"
      },
      "source": [
        "The ARP model has the same architecture as the classical model, but with ARP dense layers (`AutoRotDense`) instead of classical dense layers (`Dense`)."
      ]
    },
    {
      "cell_type": "code",
      "metadata": {
        "id": "J2sU43Kab4b3",
        "colab": {
          "base_uri": "https://localhost:8080/"
        },
        "outputId": "b1e2cf07-fa05-487e-c02b-da02199dafec"
      },
      "source": [
        "#Model with ARP\n",
        "\n",
        "print(\"Range of the train and test data: From 0 to 1\")\n",
        "print(x_train.min(), x_train.max(), x_test.min(), x_test.max())\n",
        "\n",
        "print(\"Range of the activation function output: `sigmoid`: From 0 to 1\")\n",
        "\n",
        "print(x_train.min(), x_train.max(), x_test.min(), x_test.max())\n",
        "\n",
        "# Assuming the preprocessing was a scaling to the range from 0 to 1\n",
        "minVal_InputData = 0\n",
        "maxVal_InputData = 1\n",
        "\n",
        "dict_xLims = {'sigmoid': (min(minVal_InputData, 0), max(maxVal_InputData, +1)),\n",
        "              'tanh': (min(minVal_InputData, -1), max(maxVal_InputData, +1)),\n",
        "              'atan': (min(minVal_InputData, -np.pi), max(maxVal_InputData, +np.pi)),\n",
        "              'relu': (min(minVal_InputData, 0), maxVal_InputData),\n",
        "              'leaky_relu': (min(minVal_InputData, np.where(minVal_InputData < 0, 0.3*minVal_InputData, minVal_InputData)), max(maxVal_InputData, np.where(maxVal_InputData < 0, 0.3*maxVal_InputData, maxVal_InputData))), # don't forget that leaky relu has a tunable alfa value. here, alfa=0.3\n",
        "             }\n",
        "\n",
        "xmin_lim, xmax_lim = dict_xLims[activFun]\n",
        "\n",
        "print(\"Hence, we get that: `xmin_lim` =\", xmin_lim,\"and `xmax_lim` =\", xmax_lim)\n",
        "\n",
        "print(\"ARP can be executed by defining just one hyperparameter: `L`\")\n",
        "L = 4 #since the sigmoid activation function $\\sigma(z)$ is not saturated in the range abs(z) <= L = 4 \n",
        "\n",
        "model_ARP = Sequential()\n",
        "model_ARP.add(AutoRotDense(50, input_shape=(1024,), xmin_lim=xmin_lim, xmax_lim=xmax_lim, L=L, activation=activFun))\n",
        "model_ARP.add(AutoRotDense(50, xmin_lim=xmin_lim, xmax_lim=xmax_lim, L=L, activation=activFun))\n",
        "model_ARP.add(AutoRotDense(40, xmin_lim=xmin_lim, xmax_lim=xmax_lim, L=L, activation=activFun))\n",
        "model_ARP.add(AutoRotDense(40, xmin_lim=xmin_lim, xmax_lim=xmax_lim, L=L, activation=activFun))\n",
        "#By default the `AutoRot` flag of the Auto-Rotating layers is True.\n",
        "model_ARP.add(AutoRotDense(30, activation=activFun, xmin_lim=xmin_lim, xmax_lim=xmax_lim, L=L, AutoRot=True))\n",
        "model_ARP.add(Dense(num_classes, activation='softmax'))# the last layer must not be ARP\n",
        "\n",
        "model_ARP.summary()\n",
        "\n",
        "model_ARP.compile(loss='categorical_crossentropy',\n",
        "              optimizer=RMSprop(),\n",
        "              metrics=['accuracy'])\n",
        "\n",
        "history_ARP = model_ARP.fit(x_train, y_train,\n",
        "                    batch_size=batch_size,\n",
        "                    epochs=epochs,\n",
        "                    verbose=1,\n",
        "                    validation_data=(x_test, y_test))\n",
        "score_ARP = model_ARP.evaluate(x_test, y_test, verbose=0)\n",
        "print('Test loss:', score_ARP[0])\n",
        "print('Test accuracy:', score_ARP[1])"
      ],
      "execution_count": null,
      "outputs": [
        {
          "output_type": "stream",
          "name": "stdout",
          "text": [
            "Range of the train and test data: From 0 to 1\n",
            "0.0 1.0 0.0 1.0\n",
            "Range of the activation function output: `sigmoid`: From 0 to 1\n",
            "0.0 1.0 0.0 1.0\n",
            "Hence, we get that: `xmin_lim` = 0 and `xmax_lim` = 1\n",
            "ARP can be executed by defining just one hyperparameter: `L`\n",
            "Model: \"sequential_1\"\n",
            "_________________________________________________________________\n",
            " Layer (type)                Output Shape              Param #   \n",
            "=================================================================\n",
            " auto_rot_dense (AutoRotDens  (None, 50)               51250     \n",
            " e)                                                              \n",
            "                                                                 \n",
            " auto_rot_dense_1 (AutoRotDe  (None, 50)               2550      \n",
            " nse)                                                            \n",
            "                                                                 \n",
            " auto_rot_dense_2 (AutoRotDe  (None, 40)               2040      \n",
            " nse)                                                            \n",
            "                                                                 \n",
            " auto_rot_dense_3 (AutoRotDe  (None, 40)               1640      \n",
            " nse)                                                            \n",
            "                                                                 \n",
            " auto_rot_dense_4 (AutoRotDe  (None, 30)               1230      \n",
            " nse)                                                            \n",
            "                                                                 \n",
            " dense_6 (Dense)             (None, 10)                310       \n",
            "                                                                 \n",
            "=================================================================\n",
            "Total params: 59,020\n",
            "Trainable params: 59,020\n",
            "Non-trainable params: 0\n",
            "_________________________________________________________________\n",
            "Epoch 1/20\n",
            "391/391 [==============================] - 4s 8ms/step - loss: 2.1779 - accuracy: 0.1923 - val_loss: 2.1175 - val_accuracy: 0.2204\n",
            "Epoch 2/20\n",
            "391/391 [==============================] - 3s 7ms/step - loss: 2.0817 - accuracy: 0.2424 - val_loss: 2.0554 - val_accuracy: 0.2411\n",
            "Epoch 3/20\n",
            "391/391 [==============================] - 3s 8ms/step - loss: 2.0345 - accuracy: 0.2664 - val_loss: 2.0279 - val_accuracy: 0.2641\n",
            "Epoch 4/20\n",
            "391/391 [==============================] - 4s 11ms/step - loss: 2.0017 - accuracy: 0.2795 - val_loss: 2.0221 - val_accuracy: 0.2682\n",
            "Epoch 5/20\n",
            "391/391 [==============================] - 3s 7ms/step - loss: 1.9813 - accuracy: 0.2895 - val_loss: 2.0435 - val_accuracy: 0.2795\n",
            "Epoch 6/20\n",
            "391/391 [==============================] - 3s 7ms/step - loss: 1.9577 - accuracy: 0.2983 - val_loss: 1.9768 - val_accuracy: 0.3035\n",
            "Epoch 7/20\n",
            "391/391 [==============================] - 4s 9ms/step - loss: 1.9383 - accuracy: 0.3055 - val_loss: 2.0066 - val_accuracy: 0.2891\n",
            "Epoch 8/20\n",
            "391/391 [==============================] - 5s 12ms/step - loss: 1.9274 - accuracy: 0.3092 - val_loss: 1.9338 - val_accuracy: 0.3071\n",
            "Epoch 9/20\n",
            "391/391 [==============================] - 3s 8ms/step - loss: 1.9152 - accuracy: 0.3151 - val_loss: 1.9383 - val_accuracy: 0.2996\n",
            "Epoch 10/20\n",
            "391/391 [==============================] - 3s 7ms/step - loss: 1.9052 - accuracy: 0.3168 - val_loss: 1.9226 - val_accuracy: 0.3143\n",
            "Epoch 11/20\n",
            "391/391 [==============================] - 3s 7ms/step - loss: 1.8948 - accuracy: 0.3241 - val_loss: 1.9979 - val_accuracy: 0.2898\n",
            "Epoch 12/20\n",
            "391/391 [==============================] - 4s 10ms/step - loss: 1.8797 - accuracy: 0.3293 - val_loss: 1.9023 - val_accuracy: 0.3220\n",
            "Epoch 13/20\n",
            "391/391 [==============================] - 4s 10ms/step - loss: 1.8783 - accuracy: 0.3286 - val_loss: 1.9198 - val_accuracy: 0.3059\n",
            "Epoch 14/20\n",
            "391/391 [==============================] - 3s 7ms/step - loss: 1.8666 - accuracy: 0.3325 - val_loss: 1.9037 - val_accuracy: 0.3234\n",
            "Epoch 15/20\n",
            "391/391 [==============================] - 3s 8ms/step - loss: 1.8518 - accuracy: 0.3391 - val_loss: 1.9084 - val_accuracy: 0.3160\n",
            "Epoch 16/20\n",
            "391/391 [==============================] - 3s 7ms/step - loss: 1.8403 - accuracy: 0.3438 - val_loss: 1.8630 - val_accuracy: 0.3390\n",
            "Epoch 17/20\n",
            "391/391 [==============================] - 5s 12ms/step - loss: 1.8366 - accuracy: 0.3456 - val_loss: 1.8529 - val_accuracy: 0.3406\n",
            "Epoch 18/20\n",
            "391/391 [==============================] - 3s 8ms/step - loss: 1.8276 - accuracy: 0.3489 - val_loss: 1.9023 - val_accuracy: 0.3248\n",
            "Epoch 19/20\n",
            "391/391 [==============================] - 3s 7ms/step - loss: 1.8249 - accuracy: 0.3513 - val_loss: 1.8470 - val_accuracy: 0.3418\n",
            "Epoch 20/20\n",
            "391/391 [==============================] - 3s 7ms/step - loss: 1.8179 - accuracy: 0.3514 - val_loss: 1.8502 - val_accuracy: 0.3378\n",
            "Test loss: 1.850187063217163\n",
            "Test accuracy: 0.337799996137619\n"
          ]
        }
      ]
    },
    {
      "cell_type": "markdown",
      "metadata": {
        "id": "-y1beossgPMI"
      },
      "source": [
        "ARP model has lower test loss and a higher test accuracy!"
      ]
    },
    {
      "cell_type": "markdown",
      "metadata": {
        "id": "S3rXdB5cz1W1"
      },
      "source": [
        "## Model with ARP layers with the `AutoRot` flag turned off"
      ]
    },
    {
      "cell_type": "markdown",
      "metadata": {
        "id": "9JC2OoXSz6pP"
      },
      "source": [
        "You can use the `AutoRotDense` layers with the `AutoRot` argument set to `False` in order to deactivate the Auto-Rotation."
      ]
    },
    {
      "cell_type": "code",
      "metadata": {
        "colab": {
          "base_uri": "https://localhost:8080/"
        },
        "id": "sMfQSbQJMyZi",
        "outputId": "1bf678d2-ef4f-47e4-a2a0-791c868c5f29"
      },
      "source": [
        "#Model with flagARPoff\n",
        "\n",
        "print(\"Range of the train and test data: From xmin_lim=0 to xmax_lim=1\")\n",
        "print(x_train.min(), x_train.max(), x_test.min(), x_test.max())\n",
        "\n",
        "# xmin_lim and xmax_lim were calculated above\n",
        "\n",
        "print(\"ARP can be executed by defining just one hyperparameter: `L`\")\n",
        "L = 4 #since the sigmoid activation function $\\sigma(z)$ is not saturated in the range abs(z) <= L = 4 \n",
        "\n",
        "model_flagARPoff = Sequential()\n",
        "model_flagARPoff.add(AutoRotDense(50, input_shape=(1024,), xmin_lim=xmin_lim, xmax_lim=xmax_lim, L=L, AutoRot=False, activation=activFun))\n",
        "model_flagARPoff.add(AutoRotDense(50, xmin_lim=xmin_lim, xmax_lim=xmax_lim, L=L, AutoRot=False, activation=activFun))\n",
        "model_flagARPoff.add(AutoRotDense(40, xmin_lim=xmin_lim, xmax_lim=xmax_lim, L=L, AutoRot=False, activation=activFun))\n",
        "model_flagARPoff.add(AutoRotDense(40, xmin_lim=xmin_lim, xmax_lim=xmax_lim, L=L, AutoRot=False, activation=activFun))\n",
        "model_flagARPoff.add(AutoRotDense(30, xmin_lim=xmin_lim, xmax_lim=xmax_lim, L=L, AutoRot=False, activation=activFun))\n",
        "model_flagARPoff.add(Dense(num_classes, activation='softmax'))# the last layer must not need be flagARPoff\n",
        "\n",
        "model_flagARPoff.summary()\n",
        "\n",
        "model_flagARPoff.compile(loss='categorical_crossentropy',\n",
        "              optimizer=RMSprop(),\n",
        "              metrics=['accuracy'])\n",
        "\n",
        "history_flagARPoff = model_flagARPoff.fit(x_train, y_train,\n",
        "                    batch_size=batch_size,\n",
        "                    epochs=epochs,\n",
        "                    verbose=1,\n",
        "                    validation_data=(x_test, y_test))\n",
        "score_flagARPoff = model_flagARPoff.evaluate(x_test, y_test, verbose=0)\n",
        "print('Test loss:', score_flagARPoff[0])\n",
        "print('Test accuracy:', score_flagARPoff[1])"
      ],
      "execution_count": null,
      "outputs": [
        {
          "output_type": "stream",
          "name": "stdout",
          "text": [
            "Range of the train and test data: From xmin_lim=0 to xmax_lim=1\n",
            "0.0 1.0 0.0 1.0\n",
            "ARP can be executed by defining just one hyperparameter: `L`\n",
            "Model: \"sequential_2\"\n",
            "_________________________________________________________________\n",
            " Layer (type)                Output Shape              Param #   \n",
            "=================================================================\n",
            " auto_rot_dense_5 (AutoRotDe  (None, 50)               51250     \n",
            " nse)                                                            \n",
            "                                                                 \n",
            " auto_rot_dense_6 (AutoRotDe  (None, 50)               2550      \n",
            " nse)                                                            \n",
            "                                                                 \n",
            " auto_rot_dense_7 (AutoRotDe  (None, 40)               2040      \n",
            " nse)                                                            \n",
            "                                                                 \n",
            " auto_rot_dense_8 (AutoRotDe  (None, 40)               1640      \n",
            " nse)                                                            \n",
            "                                                                 \n",
            " auto_rot_dense_9 (AutoRotDe  (None, 30)               1230      \n",
            " nse)                                                            \n",
            "                                                                 \n",
            " dense_7 (Dense)             (None, 10)                310       \n",
            "                                                                 \n",
            "=================================================================\n",
            "Total params: 59,020\n",
            "Trainable params: 59,020\n",
            "Non-trainable params: 0\n",
            "_________________________________________________________________\n",
            "Epoch 1/20\n",
            "391/391 [==============================] - 4s 7ms/step - loss: 2.3062 - accuracy: 0.1012 - val_loss: 2.3023 - val_accuracy: 0.1161\n",
            "Epoch 2/20\n",
            "391/391 [==============================] - 2s 5ms/step - loss: 2.2923 - accuracy: 0.1201 - val_loss: 2.2397 - val_accuracy: 0.1529\n",
            "Epoch 3/20\n",
            "391/391 [==============================] - 2s 6ms/step - loss: 2.1870 - accuracy: 0.1621 - val_loss: 2.1614 - val_accuracy: 0.1668\n",
            "Epoch 4/20\n",
            "391/391 [==============================] - 2s 6ms/step - loss: 2.1584 - accuracy: 0.1689 - val_loss: 2.1411 - val_accuracy: 0.1787\n",
            "Epoch 5/20\n",
            "391/391 [==============================] - 3s 7ms/step - loss: 2.1334 - accuracy: 0.1782 - val_loss: 2.1285 - val_accuracy: 0.1757\n",
            "Epoch 6/20\n",
            "391/391 [==============================] - 3s 8ms/step - loss: 2.1111 - accuracy: 0.1824 - val_loss: 2.0959 - val_accuracy: 0.1893\n",
            "Epoch 7/20\n",
            "391/391 [==============================] - 2s 6ms/step - loss: 2.0979 - accuracy: 0.1856 - val_loss: 2.0858 - val_accuracy: 0.1844\n",
            "Epoch 8/20\n",
            "391/391 [==============================] - 2s 6ms/step - loss: 2.0881 - accuracy: 0.1918 - val_loss: 2.0727 - val_accuracy: 0.1882\n",
            "Epoch 9/20\n",
            "391/391 [==============================] - 2s 6ms/step - loss: 2.0770 - accuracy: 0.1919 - val_loss: 2.1264 - val_accuracy: 0.1827\n",
            "Epoch 10/20\n",
            "391/391 [==============================] - 2s 6ms/step - loss: 2.0695 - accuracy: 0.2006 - val_loss: 2.0694 - val_accuracy: 0.1955\n",
            "Epoch 11/20\n",
            "391/391 [==============================] - 3s 8ms/step - loss: 2.0592 - accuracy: 0.2009 - val_loss: 2.0919 - val_accuracy: 0.1780\n",
            "Epoch 12/20\n",
            "391/391 [==============================] - 3s 8ms/step - loss: 2.0520 - accuracy: 0.2067 - val_loss: 2.0778 - val_accuracy: 0.1952\n",
            "Epoch 13/20\n",
            "391/391 [==============================] - 2s 6ms/step - loss: 2.0448 - accuracy: 0.2097 - val_loss: 2.0395 - val_accuracy: 0.2126\n",
            "Epoch 14/20\n",
            "391/391 [==============================] - 2s 6ms/step - loss: 2.0399 - accuracy: 0.2099 - val_loss: 2.0371 - val_accuracy: 0.2194\n",
            "Epoch 15/20\n",
            "391/391 [==============================] - 2s 6ms/step - loss: 2.0336 - accuracy: 0.2147 - val_loss: 2.0893 - val_accuracy: 0.1972\n",
            "Epoch 16/20\n",
            "391/391 [==============================] - 2s 6ms/step - loss: 2.0285 - accuracy: 0.2147 - val_loss: 2.0324 - val_accuracy: 0.2154\n",
            "Epoch 17/20\n",
            "391/391 [==============================] - 3s 8ms/step - loss: 2.0225 - accuracy: 0.2218 - val_loss: 2.0291 - val_accuracy: 0.2180\n",
            "Epoch 18/20\n",
            "391/391 [==============================] - 3s 7ms/step - loss: 2.0168 - accuracy: 0.2233 - val_loss: 2.1341 - val_accuracy: 0.1870\n",
            "Epoch 19/20\n",
            "391/391 [==============================] - 2s 6ms/step - loss: 2.0116 - accuracy: 0.2255 - val_loss: 2.0555 - val_accuracy: 0.2253\n",
            "Epoch 20/20\n",
            "391/391 [==============================] - 2s 6ms/step - loss: 2.0039 - accuracy: 0.2323 - val_loss: 2.0174 - val_accuracy: 0.2359\n",
            "Test loss: 2.017446517944336\n",
            "Test accuracy: 0.23589999973773956\n"
          ]
        }
      ]
    },
    {
      "cell_type": "markdown",
      "metadata": {
        "id": "LH4OtPpW0UWa"
      },
      "source": [
        "This model should generate similar results w.r.t. the classic model."
      ]
    },
    {
      "cell_type": "markdown",
      "metadata": {
        "id": "vJByYjFod8tZ"
      },
      "source": [
        "# Performance comparison graphs"
      ]
    },
    {
      "cell_type": "code",
      "metadata": {
        "id": "5WangUS6eFSB"
      },
      "source": [
        "import matplotlib.pyplot as plt\n",
        "import matplotlib as mpl"
      ],
      "execution_count": null,
      "outputs": []
    },
    {
      "cell_type": "markdown",
      "metadata": {
        "id": "Iy7cheitCpI5"
      },
      "source": [
        "## Loss curves"
      ]
    },
    {
      "cell_type": "code",
      "metadata": {
        "id": "LJJFBHwYeFSE",
        "colab": {
          "base_uri": "https://localhost:8080/",
          "height": 281
        },
        "outputId": "089dc5a7-2a7b-4556-d786-019d046bdc9a"
      },
      "source": [
        "plt.plot(history_classic.history['loss'], '--', color='red', label='train vanilla')\n",
        "plt.plot(history_classic.history['val_loss'], '--', color='pink', label='val vanilla')\n",
        "plt.plot(history_ARP.history['loss'], color='green', label='train ARP')\n",
        "plt.plot(history_ARP.history['val_loss'], color='lightgreen', label='val ARP')\n",
        "plt.title('Loss curves')\n",
        "plt.legend()\n",
        "plt.show()"
      ],
      "execution_count": null,
      "outputs": [
        {
          "output_type": "display_data",
          "data": {
            "text/plain": [
              "<Figure size 432x288 with 1 Axes>"
            ],
            "image/png": "[encoded data removed]"
          },
          "metadata": {
            "needs_background": "light"
          }
        }
      ]
    },
    {
      "cell_type": "markdown",
      "metadata": {
        "id": "QVuxhVsKCc9K"
      },
      "source": [
        "We can see that with the Auto-Rotation, the initial loss of the network is lower, and it decreases faster to a lower value."
      ]
    },
    {
      "cell_type": "markdown",
      "metadata": {
        "id": "GIuSR3j0CrIV"
      },
      "source": [
        "## Accuracy curves"
      ]
    },
    {
      "cell_type": "code",
      "metadata": {
        "id": "1MLMP-e2eFSH",
        "colab": {
          "base_uri": "https://localhost:8080/",
          "height": 281
        },
        "outputId": "1371ae1c-da8f-4216-a25a-aa6bbcdfd32c"
      },
      "source": [
        "plt.plot(history_classic.history['accuracy'], '--', color='red', label='train vanilla')\n",
        "plt.plot(history_classic.history['val_accuracy'], '--', color='pink', label='val vanilla')\n",
        "plt.plot(history_ARP.history['accuracy'], color='green', label='train ARP')\n",
        "plt.plot(history_ARP.history['val_accuracy'], color='lightgreen', label='val ARP')\n",
        "plt.title('Accuracy curves')\n",
        "plt.legend()\n",
        "plt.show()"
      ],
      "execution_count": null,
      "outputs": [
        {
          "output_type": "display_data",
          "data": {
            "text/plain": [
              "<Figure size 432x288 with 1 Axes>"
            ],
            "image/png": "[encoded data removed]"
          },
          "metadata": {
            "needs_background": "light"
          }
        }
      ]
    },
    {
      "cell_type": "markdown",
      "metadata": {
        "id": "0h4seuZ6CuLd"
      },
      "source": [
        "The final accuracy of the ARP model is bigger than with classic (vanilla) perceptrons."
      ]
    },
    {
      "cell_type": "markdown",
      "metadata": {
        "id": "zQ34bkHjDJUl"
      },
      "source": [
        "## Comparing the vanilla perceptrons and the AutoRot perceptrons with the ARP flag turned off"
      ]
    },
    {
      "cell_type": "code",
      "metadata": {
        "id": "JW6L6LeWlZW0",
        "colab": {
          "base_uri": "https://localhost:8080/",
          "height": 281
        },
        "outputId": "9b73f085-8a8f-4d94-c444-1c78a2d16485"
      },
      "source": [
        "plt.plot(history_classic.history['accuracy'], '--', color='red', label='train vanilla')\n",
        "plt.plot(history_classic.history['val_accuracy'], '--', color='pink', label='val vanilla')\n",
        "plt.plot(history_flagARPoff.history['accuracy'], color='blue', label='train flagARPoff')\n",
        "plt.plot(history_flagARPoff.history['val_accuracy'], color='yellow', label='val flagARPoff')\n",
        "\n",
        "#plt.plot(history_ARP.history['accuracy'], color='green', label='train ARP')\n",
        "#plt.plot(history_ARP.history['val_accuracy'], color='lightgreen', label='val ARP')\n",
        "\n",
        "plt.title('Accuracy curves')\n",
        "plt.legend()\n",
        "plt.show()"
      ],
      "execution_count": null,
      "outputs": [
        {
          "output_type": "display_data",
          "data": {
            "text/plain": [
              "<Figure size 432x288 with 1 Axes>"
            ],
            "image/png": "[encoded data removed]"
          },
          "metadata": {
            "needs_background": "light"
          }
        }
      ]
    },
    {
      "cell_type": "markdown",
      "metadata": {
        "id": "sopx037UDUxC"
      },
      "source": [
        "As expected, turning off the flag of the Auto-Rotating dense layer generates a similar behavior than using the vanilla dense layers. The results vary because of the training process' stochasticity and the initial weights."
      ]
    }
  ]
}